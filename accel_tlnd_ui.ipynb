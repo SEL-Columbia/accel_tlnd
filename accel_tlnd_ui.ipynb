{
  "cells": [
    {
      "cell_type": "code",
      "execution_count": null,
      "metadata": {},
      "outputs": [
        {
          "name": "stdout",
          "output_type": "stream",
          "text": [
            "✅ Setup completed successfully!\n",
            "📁 Working directory: /Users/wuyuezi/Desktop/energy_system_design_tools/accel_tlnd_training\n",
            "🎯 Now run the Interactive UI cell below!\n"
          ]
        }
      ],
      "source": [
        "# ========================================\n",
        "# SETUP CELL - Run this first!\n",
        "# ========================================\n",
        "\n",
        "# Import required libraries\n",
        "import ipywidgets as widgets\n",
        "from IPython.display import display, HTML, clear_output\n",
        "import yaml\n",
        "import subprocess\n",
        "import sys\n",
        "from pathlib import Path\n",
        "import matplotlib.pyplot as plt\n",
        "import matplotlib.image as mpimg\n",
        "import warnings\n",
        "warnings.filterwarnings('ignore')\n",
        "\n",
        "# Set up paths\n",
        "ROOT_DIR = Path('.')\n",
        "SCRIPTS_DIR = ROOT_DIR / 'accel_tlnd_model' / 'scripts'\n",
        "INPUTS_DIR = ROOT_DIR / 'accel_tlnd_model' / 'inputs'\n",
        "RESULTS_DIR = ROOT_DIR / 'accel_tlnd_model' / 'results'\n",
        "PARAMS_FILE = SCRIPTS_DIR / 'params.yaml'\n",
        "\n",
        "# ========================================\n",
        "# UTILITY FUNCTIONS\n",
        "# ========================================\n",
        "\n",
        "def load_params():\n",
        "    \"\"\"Load parameters from params.yaml\"\"\"\n",
        "    with open(PARAMS_FILE, 'r') as f:\n",
        "        return yaml.safe_load(f)\n",
        "\n",
        "def save_params(params):\n",
        "    \"\"\"Save parameters to params.yaml\"\"\"\n",
        "    with open(PARAMS_FILE, 'w') as f:\n",
        "        yaml.dump(params, f, default_flow_style=False)\n",
        "\n",
        "def save_config(widgets_dict):\n",
        "    \"\"\"Save current widget values to params.yaml\"\"\"\n",
        "    config = {\n",
        "        'my_shp': widgets_dict['file'].value,\n",
        "        'model_selection': widgets_dict['model'].value,\n",
        "        'max_dist': widgets_dict['max_dist'].value,\n",
        "        'project_name': widgets_dict['project'].value,\n",
        "        'epsg': widgets_dict['epsg'].value,\n",
        "        'costs_params': {\n",
        "            'lv_cost_per_meter': widgets_dict['lv_cost'].value,\n",
        "            'mv_cost_per_meter': widgets_dict['mv_cost'].value,\n",
        "            'transformer_cost': widgets_dict['transformer_cost'].value\n",
        "        },\n",
        "        'outlier_exclusion_case': widgets_dict['outlier'].value,\n",
        "        'eps_meters': widgets_dict['eps'].value,\n",
        "        'min_samples': widgets_dict['min_samples'].value,\n",
        "        'milp_params': {\n",
        "            'time_limit': widgets_dict['time_limit'].value\n",
        "        }\n",
        "    }\n",
        "    \n",
        "    save_params(config)\n",
        "    print(\"✅ Configuration saved to params.yaml\")\n",
        "    return config\n",
        "\n",
        "def display_network_metrics(project_name):\n",
        "    \"\"\"Display network metrics from the results\"\"\"\n",
        "    result_dir = RESULTS_DIR / project_name\n",
        "    \n",
        "    # Look for network metrics file\n",
        "    metrics_files = list(result_dir.glob('*metrics*')) + list(result_dir.glob('*summary*'))\n",
        "    \n",
        "    if metrics_files:\n",
        "        print(f\"\\n📊 Network Design Metrics:\")\n",
        "        print(\"=\" * 50)\n",
        "        \n",
        "        for metrics_file in metrics_files:\n",
        "            try:\n",
        "                with open(metrics_file, 'r') as f:\n",
        "                    content = f.read()\n",
        "                    \n",
        "                # Parse and format the metrics nicely\n",
        "                lines = content.strip().split('\\n')\n",
        "                for line in lines:\n",
        "                    if ',' in line and any(char.isdigit() for char in line):\n",
        "                        # Split on comma and format nicely\n",
        "                        parts = line.split(',')\n",
        "                        if len(parts) == 2:\n",
        "                            metric_name = parts[0].strip()\n",
        "                            metric_value = parts[1].strip()\n",
        "                            \n",
        "                            # Add appropriate emoji for different metrics\n",
        "                            if 'node' in metric_name.lower():\n",
        "                                emoji = \"🏠\"\n",
        "                            elif 'transformer' in metric_name.lower():\n",
        "                                emoji = \"⚡\"\n",
        "                            elif 'length' in metric_name.lower() or 'distance' in metric_name.lower():\n",
        "                                emoji = \"📏\"\n",
        "                            elif 'cost' in metric_name.lower():\n",
        "                                emoji = \"💰\"\n",
        "                            elif 'time' in metric_name.lower():\n",
        "                                emoji = \"⏱️\"\n",
        "                            else:\n",
        "                                emoji = \"📈\"\n",
        "                            \n",
        "                            print(f\"{emoji} {metric_name}: {metric_value}\")\n",
        "                    else:\n",
        "                        # Print other lines as-is if they look like headers or important info\n",
        "                        if line.strip() and not line.startswith('#'):\n",
        "                            print(f\"📋 {line}\")\n",
        "                            \n",
        "            except Exception as e:\n",
        "                print(f\"⚠️ Error reading metrics from {metrics_file.name}: {e}\")\n",
        "                \n",
        "        print(\"=\" * 50)\n",
        "    else:\n",
        "        print(f\"⚠️ No metrics file found in {result_dir}\")\n",
        "\n",
        "def display_network_image(project_name):\n",
        "    \"\"\"Display the generated network.png image\"\"\"\n",
        "    result_dir = RESULTS_DIR / project_name\n",
        "    network_png = result_dir / 'network.png'\n",
        "    \n",
        "    if network_png.exists():\n",
        "        try:\n",
        "            print(f\"\\n🖼️ Network Design Visualization:\")\n",
        "            \n",
        "            fig, ax = plt.subplots(figsize=(14, 10))\n",
        "            img = mpimg.imread(network_png)\n",
        "            ax.imshow(img)\n",
        "            ax.axis('off')  # Hide axes for cleaner image display\n",
        "            ax.set_title(f\"Network Design: {project_name}\", fontsize=18, fontweight='bold', pad=20)\n",
        "            plt.tight_layout()\n",
        "            plt.show()\n",
        "            \n",
        "            print(f\"✅ Network visualization displayed from: {network_png}\")\n",
        "            \n",
        "        except Exception as e:\n",
        "            print(f\"⚠️ Error displaying network image: {e}\")\n",
        "    else:\n",
        "        print(f\"⚠️ Network image not found at: {network_png}\")\n",
        "\n",
        "def get_available_input_files():\n",
        "    \"\"\"Get list of available input files\"\"\"\n",
        "    available_files = []\n",
        "    \n",
        "    if INPUTS_DIR.exists():\n",
        "        # Look for shapefiles, parquet files, geojson, gpkg\n",
        "        for pattern in ['**/*.shp', '**/*.parquet', '**/*.geojson', '**/*.gpkg']:\n",
        "            for file_path in INPUTS_DIR.glob(pattern):\n",
        "                # Make path relative to project root\n",
        "                relative_path = file_path.relative_to(ROOT_DIR)\n",
        "                available_files.append(str(relative_path))\n",
        "    \n",
        "    # Sort files for better organization\n",
        "    available_files.sort()\n",
        "    \n",
        "    # Add a custom option at the beginning\n",
        "    available_files.insert(0, \"-- Select a file or type custom path --\")\n",
        "    \n",
        "    return available_files\n",
        "\n",
        "def create_ui_widgets():\n",
        "    \"\"\"Create all UI widgets and return them\"\"\"\n",
        "    params = load_params()\n",
        "    \n",
        "    # Get available input files\n",
        "    available_files = get_available_input_files()\n",
        "    \n",
        "    # File selection dropdown\n",
        "    current_file = params.get('my_shp', 'accel_tlnd_model/inputs/example_1/nodes_for_netdesign.shp')\n",
        "    \n",
        "    # Set dropdown value - use current file if it's in the list, otherwise use first option\n",
        "    dropdown_value = current_file if current_file in available_files else available_files[0]\n",
        "    \n",
        "    file_dropdown = widgets.Dropdown(\n",
        "        options=available_files,\n",
        "        value=dropdown_value,\n",
        "        description='Quick Select:',\n",
        "        style={'description_width': 'initial'},\n",
        "        layout=widgets.Layout(width='400px')\n",
        "    )\n",
        "    \n",
        "    # File path textarea (copy/paste friendly)\n",
        "    file_text = widgets.Textarea(\n",
        "        value=current_file,\n",
        "        description='File Path:',\n",
        "        style={'description_width': 'initial'},\n",
        "        layout=widgets.Layout(width='500px', height='60px'),\n",
        "        placeholder='Type or paste file path here',\n",
        "        rows=2\n",
        "    )\n",
        "    \n",
        "    # Project name textarea (copy/paste friendly)  \n",
        "    project_widget = widgets.Textarea(\n",
        "        value=params.get('project_name', 'test_project'),\n",
        "        description='Project Name:',\n",
        "        style={'description_width': 'initial'},\n",
        "        layout=widgets.Layout(width='400px', height='60px'),\n",
        "        placeholder='Enter project name',\n",
        "        rows=2\n",
        "    )\n",
        "    \n",
        "    # Connect dropdown and text\n",
        "    def on_dropdown_change(change):\n",
        "        if change['new'] != \"-- Select a file or type custom path --\":\n",
        "            file_text.value = change['new']\n",
        "    \n",
        "    file_dropdown.observe(on_dropdown_change, names='value')\n",
        "    \n",
        "    # File widget wrapper\n",
        "    class FileWidgetWrapper:\n",
        "        def __init__(self, text_widget):\n",
        "            self.text = text_widget\n",
        "        @property\n",
        "        def value(self):\n",
        "            return self.text.value.strip()\n",
        "        @value.setter\n",
        "        def value(self, val):\n",
        "            self.text.value = val\n",
        "    \n",
        "    file_widget = FileWidgetWrapper(file_text)\n",
        "    \n",
        "    # Other widgets\n",
        "    model_widget = widgets.Dropdown(options=['mst', 'milp'], value=params.get('model_selection', 'mst'), description='Model:')\n",
        "    max_dist_widget = widgets.IntText(value=params.get('max_dist', 500), description='Max Distance (m):', style={'description_width': 'initial'}, layout=widgets.Layout(width='300px'))\n",
        "    epsg_widget = widgets.IntText(value=params.get('epsg', 32636), description='EPSG Code:')\n",
        "    lv_cost_widget = widgets.FloatText(value=params.get('costs_params', {}).get('lv_cost_per_meter', 8), description='LV Cost ($/m):', style={'description_width': 'initial'}, layout=widgets.Layout(width='300px'))\n",
        "    mv_cost_widget = widgets.FloatText(value=params.get('costs_params', {}).get('mv_cost_per_meter', 20), description='MV Cost ($/m):', style={'description_width': 'initial'}, layout=widgets.Layout(width='300px'))\n",
        "    transformer_cost_widget = widgets.FloatText(value=params.get('costs_params', {}).get('transformer_cost', 2500), description='Transformer Cost ($):', style={'description_width': 'initial'}, layout=widgets.Layout(width='350px'))\n",
        "    outlier_widget = widgets.Checkbox(value=params.get('outlier_exclusion_case', False), description='Outlier Exclusion')\n",
        "    \n",
        "    # Create collapsible cost parameters section (title will be displayed separately)\n",
        "    cost_accordion = widgets.Accordion(children=[widgets.VBox([lv_cost_widget, mv_cost_widget, transformer_cost_widget])], \n",
        "                                       titles=('Click to expand/collapse',))\n",
        "    # Use a platform-compatible way to start collapsed\n",
        "    import IPython\n",
        "    if 'google.colab' in str(IPython.get_ipython()):\n",
        "        # In Google Colab, start expanded but user can collapse\n",
        "        cost_accordion.selected_index = 0\n",
        "    else:\n",
        "        # In local Jupyter, start collapsed\n",
        "        cost_accordion.selected_index = None\n",
        "    eps_widget = widgets.IntSlider(value=params.get('eps_meters', 100), min=50, max=500, step=10, description='EPS (m):')\n",
        "    min_samples_widget = widgets.IntSlider(value=params.get('min_samples', 5), min=1, max=20, description='Min Samples:')\n",
        "    time_limit_widget = widgets.IntText(value=params.get('milp_params', {}).get('time_limit', 60), description='Time Limit (s):')\n",
        "    \n",
        "    return {\n",
        "        'file': file_widget, 'file_dropdown': file_dropdown, 'file_text': file_text,\n",
        "        'model': model_widget, 'max_dist': max_dist_widget, 'project': project_widget,\n",
        "        'epsg': epsg_widget, 'lv_cost': lv_cost_widget, 'mv_cost': mv_cost_widget,\n",
        "        'transformer_cost': transformer_cost_widget, 'cost_accordion': cost_accordion,\n",
        "        'outlier': outlier_widget, 'eps': eps_widget, 'min_samples': min_samples_widget, \n",
        "        'time_limit': time_limit_widget\n",
        "    }\n",
        "\n",
        "print(\"✅ Setup completed successfully!\")\n",
        "print(f\"📁 Working directory: {ROOT_DIR.absolute()}\")\n",
        "print(\"🎯 Now run the Interactive UI cell below!\")\n"
      ]
    },
    {
      "cell_type": "code",
      "execution_count": null,
      "metadata": {},
      "outputs": [
        {
          "data": {
            "text/html": [
              "<h2>🔧 Energy System Design Tool</h2>"
            ],
            "text/plain": [
              "<IPython.core.display.HTML object>"
            ]
          },
          "metadata": {},
          "output_type": "display_data"
        },
        {
          "data": {
            "text/html": [
              "<h3>📁 Input Configuration</h3>"
            ],
            "text/plain": [
              "<IPython.core.display.HTML object>"
            ]
          },
          "metadata": {},
          "output_type": "display_data"
        },
        {
          "data": {
            "text/html": [
              "\n",
              "<div style='color:#555; font-size:0.9em; margin-bottom:6px;'>\n",
              "<b>Supported formats:</b> Shapefile (.shp), GeoJSON (.geojson), GeoPackage (.gpkg), and Parquet (.parquet).<br>\n",
              "<b>💡 Tip:</b> Use the dropdown to quickly select available files, or copy/paste a custom path in the text field below.\n",
              "</div>\n"
            ],
            "text/plain": [
              "<IPython.core.display.HTML object>"
            ]
          },
          "metadata": {},
          "output_type": "display_data"
        },
        {
          "data": {
            "application/vnd.jupyter.widget-view+json": {
              "model_id": "52b68495bebb4f23b5761e09fd1a9947",
              "version_major": 2,
              "version_minor": 0
            },
            "text/plain": [
              "HBox(children=(Dropdown(description='Quick Select:', index=4, layout=Layout(width='400px'), options=('-- Selec…"
            ]
          },
          "metadata": {},
          "output_type": "display_data"
        },
        {
          "data": {
            "application/vnd.jupyter.widget-view+json": {
              "model_id": "ec1df743f2974ae3840f1060d3973806",
              "version_major": 2,
              "version_minor": 0
            },
            "text/plain": [
              "Textarea(value='accel_tlnd_model/inputs/example_3_parish_42320601_merged_structures.parquet', description='Fil…"
            ]
          },
          "metadata": {},
          "output_type": "display_data"
        },
        {
          "data": {
            "application/vnd.jupyter.widget-view+json": {
              "model_id": "cab7f6d75d804f879b642433562cebc1",
              "version_major": 2,
              "version_minor": 0
            },
            "text/plain": [
              "Textarea(value='example_project_3', description='Project Name:', layout=Layout(height='60px', width='400px'), …"
            ]
          },
          "metadata": {},
          "output_type": "display_data"
        },
        {
          "data": {
            "application/vnd.jupyter.widget-view+json": {
              "model_id": "f373b839f0fe4f0898e9a0d06b89b1f8",
              "version_major": 2,
              "version_minor": 0
            },
            "text/plain": [
              "IntText(value=32636, description='EPSG Code:')"
            ]
          },
          "metadata": {},
          "output_type": "display_data"
        },
        {
          "data": {
            "text/html": [
              "\n",
              "<h3>🔧 Model Configuration</h3>\n",
              "<div style='color:#888; font-size: 0.95em; margin-bottom:8px;'>\n",
              "<b>Note:</b> <span style='color:#6a8caf;'>\n",
              "<strong>Suggestion:</strong> For most cases, select <b>mst</b>.<br>\n",
              "Choose <b>milp</b> only if you have Gurobi installed and want more advanced optimization.\n",
              "</span>\n",
              "</div>\n"
            ],
            "text/plain": [
              "<IPython.core.display.HTML object>"
            ]
          },
          "metadata": {},
          "output_type": "display_data"
        },
        {
          "data": {
            "application/vnd.jupyter.widget-view+json": {
              "model_id": "123bb5158a8d41199725fdcf1fa07975",
              "version_major": 2,
              "version_minor": 0
            },
            "text/plain": [
              "Dropdown(description='Model:', options=('mst', 'milp'), value='mst')"
            ]
          },
          "metadata": {},
          "output_type": "display_data"
        },
        {
          "data": {
            "application/vnd.jupyter.widget-view+json": {
              "model_id": "55234edcd3e449b2b65e34fe51f9ecac",
              "version_major": 2,
              "version_minor": 0
            },
            "text/plain": [
              "IntText(value=1000, description='Max Distance (m):', layout=Layout(width='300px'), style=DescriptionStyle(desc…"
            ]
          },
          "metadata": {},
          "output_type": "display_data"
        },
        {
          "data": {
            "application/vnd.jupyter.widget-view+json": {
              "model_id": "e11622dda95a41c3a8ec34ef582f6d15",
              "version_major": 2,
              "version_minor": 0
            },
            "text/plain": [
              "VBox()"
            ]
          },
          "metadata": {},
          "output_type": "display_data"
        },
        {
          "data": {
            "text/html": [
              "<h3>💰 Cost Parameters</h3>"
            ],
            "text/plain": [
              "<IPython.core.display.HTML object>"
            ]
          },
          "metadata": {},
          "output_type": "display_data"
        },
        {
          "data": {
            "text/html": [
              "\n",
              "<div style='color:#666; font-size:0.9em; margin-bottom:8px;'>\n",
              "<b>📝 Note:</b> Expand the panel below to modify cost parameters for your network design calculations.<br>\n",
              "</div>\n"
            ],
            "text/plain": [
              "<IPython.core.display.HTML object>"
            ]
          },
          "metadata": {},
          "output_type": "display_data"
        },
        {
          "data": {
            "application/vnd.jupyter.widget-view+json": {
              "model_id": "6aa0d358ed414486ad2894cc887fb8a9",
              "version_major": 2,
              "version_minor": 0
            },
            "text/plain": [
              "Accordion(children=(VBox(children=(FloatText(value=8.0, description='LV Cost ($/m):', layout=Layout(width='300…"
            ]
          },
          "metadata": {},
          "output_type": "display_data"
        },
        {
          "data": {
            "text/html": [
              "<h3>🎯 Outlier Exclusion</h3>"
            ],
            "text/plain": [
              "<IPython.core.display.HTML object>"
            ]
          },
          "metadata": {},
          "output_type": "display_data"
        },
        {
          "data": {
            "application/vnd.jupyter.widget-view+json": {
              "model_id": "05358c8eb0e148d89dd6ccc96b433bcf",
              "version_major": 2,
              "version_minor": 0
            },
            "text/plain": [
              "Checkbox(value=False, description='Outlier Exclusion')"
            ]
          },
          "metadata": {},
          "output_type": "display_data"
        },
        {
          "data": {
            "application/vnd.jupyter.widget-view+json": {
              "model_id": "e0d34fa096a64320a16d02cd3b125e7d",
              "version_major": 2,
              "version_minor": 0
            },
            "text/plain": [
              "IntSlider(value=100, description='EPS (m):', max=500, min=50, step=10)"
            ]
          },
          "metadata": {},
          "output_type": "display_data"
        },
        {
          "data": {
            "application/vnd.jupyter.widget-view+json": {
              "model_id": "8d7e75d297a148c5a15ebc523126a843",
              "version_major": 2,
              "version_minor": 0
            },
            "text/plain": [
              "IntSlider(value=3, description='Min Samples:', max=20, min=1)"
            ]
          },
          "metadata": {},
          "output_type": "display_data"
        },
        {
          "data": {
            "text/html": [
              "<h2>🚀 Run Analysis</h2>"
            ],
            "text/plain": [
              "<IPython.core.display.HTML object>"
            ]
          },
          "metadata": {},
          "output_type": "display_data"
        },
        {
          "data": {
            "application/vnd.jupyter.widget-view+json": {
              "model_id": "7597ec7d44174be6bc2e9173fdfaf239",
              "version_major": 2,
              "version_minor": 0
            },
            "text/plain": [
              "HBox(children=(Button(button_style='success', description='Save Configuration', icon='save', style=ButtonStyle…"
            ]
          },
          "metadata": {},
          "output_type": "display_data"
        },
        {
          "data": {
            "application/vnd.jupyter.widget-view+json": {
              "model_id": "31c0bbe3efe8418fb26327ef347e75bb",
              "version_major": 2,
              "version_minor": 0
            },
            "text/plain": [
              "Output()"
            ]
          },
          "metadata": {},
          "output_type": "display_data"
        },
        {
          "name": "stdout",
          "output_type": "stream",
          "text": [
            "🎉 Interactive UI is ready! Configure your parameters above and click 'Run Analysis'!\n",
            "📸 Network visualization will appear automatically after analysis completes.\n",
            "The output files will be saved at 'results/Project Name'\n"
          ]
        }
      ],
      "source": [
        "# ========================================\n",
        "# INTERACTIVE UI CELL\n",
        "# ========================================\n",
        "\n",
        "# Create all UI widgets\n",
        "widgets_dict = create_ui_widgets()\n",
        "\n",
        "# Create buttons\n",
        "refresh_button = widgets.Button(\n",
        "    description=\"🔄 Refresh\",\n",
        "    button_style='info',\n",
        "    layout=widgets.Layout(width='120px')\n",
        ")\n",
        "\n",
        "save_button = widgets.Button(\n",
        "    description=\"Save Configuration\",\n",
        "    button_style='success',\n",
        "    icon='save'\n",
        ")\n",
        "\n",
        "run_button = widgets.Button(\n",
        "    description=\"Run Analysis\",\n",
        "    button_style='primary',\n",
        "    icon='play'\n",
        ")\n",
        "\n",
        "# Create output area\n",
        "analysis_output = widgets.Output()\n",
        "\n",
        "# Create conditional display for time limit (only needed if MILP model is selected)\n",
        "time_limit_container = widgets.VBox([widgets_dict['time_limit']])\n",
        "\n",
        "def on_model_change(change):\n",
        "    if change['new'] == 'milp':\n",
        "        time_limit_container.children = [widgets_dict['time_limit']]\n",
        "    else:\n",
        "        time_limit_container.children = []\n",
        "\n",
        "widgets_dict['model'].observe(on_model_change, names='value')\n",
        "\n",
        "# Initialize display based on current model selection\n",
        "if widgets_dict['model'].value == 'milp':\n",
        "    time_limit_container.children = [widgets_dict['time_limit']]\n",
        "else:\n",
        "    time_limit_container.children = []\n",
        "\n",
        "# Button click handlers\n",
        "def on_refresh_click(b):\n",
        "    try:\n",
        "        files = get_available_input_files()\n",
        "        widgets_dict['file_dropdown'].options = files\n",
        "        print(f\"✅ Found {len(files)-1} input files\")\n",
        "    except Exception as e:\n",
        "        print(f\"⚠️ Error: {e}\")\n",
        "\n",
        "def on_save_click(b):\n",
        "    with analysis_output:\n",
        "        clear_output()\n",
        "        save_config(widgets_dict)\n",
        "\n",
        "def on_run_click(b):\n",
        "    with analysis_output:\n",
        "        clear_output()\n",
        "        save_config(widgets_dict)\n",
        "        print(\"\")\n",
        "        \n",
        "        print(\"🚀 Starting network design analysis...\")\n",
        "        print(\"This may take a few minutes depending on your data size and model selection.\")\n",
        "        \n",
        "        try:\n",
        "            result = subprocess.run(\n",
        "                [sys.executable, 'main.py'],\n",
        "                cwd=SCRIPTS_DIR,\n",
        "                capture_output=True,\n",
        "                text=True\n",
        "            )\n",
        "            \n",
        "            if result.returncode == 0:\n",
        "                print(\"✅ Analysis completed successfully!\")\n",
        "                print(\"\\n📊 Analysis Output:\")\n",
        "                print(result.stdout)\n",
        "                \n",
        "                # Display network metrics first\n",
        "                display_network_metrics(widgets_dict['project'].value.strip())\n",
        "                \n",
        "                # Then display the network visualization\n",
        "                display_network_image(widgets_dict['project'].value.strip())\n",
        "                \n",
        "            else:\n",
        "                print(\"❌ Analysis failed!\")\n",
        "                print(\"\\n🔍 Error details:\")\n",
        "                print(result.stderr)\n",
        "                \n",
        "                # Still try to display metrics and network.png in case they were generated before failure\n",
        "                print(\"\\n🔍 Attempting to display any generated network results...\")\n",
        "                display_network_metrics(widgets_dict['project'].value.strip())\n",
        "                display_network_image(widgets_dict['project'].value.strip())\n",
        "                \n",
        "        except Exception as e:\n",
        "            print(f\"❌ Error running analysis: {e}\")\n",
        "\n",
        "# Connect buttons to handlers\n",
        "refresh_button.on_click(on_refresh_click)\n",
        "save_button.on_click(on_save_click)\n",
        "run_button.on_click(on_run_click)\n",
        "\n",
        "# ========================================\n",
        "# DISPLAY THE UI\n",
        "# ========================================\n",
        "\n",
        "display(HTML(\"<h2>🔧 Energy System Design Tool</h2>\"))\n",
        "\n",
        "display(HTML(\"<h3>📁 Input Configuration</h3>\"))\n",
        "display(HTML(\"\"\"\n",
        "<div style='color:#555; font-size:0.9em; margin-bottom:6px;'>\n",
        "<b>Supported formats:</b> Shapefile (.shp), GeoJSON (.geojson), GeoPackage (.gpkg), and Parquet (.parquet).<br>\n",
        "<b>💡 Tip:</b> Use the dropdown to quickly select available files, or copy/paste a custom path in the text field below.\n",
        "</div>\n",
        "\"\"\"))\n",
        "display(widgets.HBox([widgets_dict['file_dropdown'], refresh_button]))\n",
        "display(widgets_dict['file_text'])\n",
        "display(widgets_dict['project'])\n",
        "display(widgets_dict['epsg'])\n",
        "\n",
        "display(HTML(\"\"\"\n",
        "<h3>🔧 Model Configuration</h3>\n",
        "<div style='color:#888; font-size: 0.95em; margin-bottom:8px;'>\n",
        "<b>Note:</b> <span style='color:#6a8caf;'>\n",
        "<strong>Suggestion:</strong> For most cases, select <b>mst</b>.<br>\n",
        "Choose <b>milp</b> only if you have Gurobi installed and want more advanced optimization.\n",
        "</span>\n",
        "</div>\n",
        "\"\"\"))\n",
        "display(widgets_dict['model'])\n",
        "display(widgets_dict['max_dist'])\n",
        "display(time_limit_container)\n",
        "\n",
        "display(HTML(\"<h3>💰 Cost Parameters</h3>\"))\n",
        "display(HTML(\"\"\"\n",
        "<div style='color:#666; font-size:0.9em; margin-bottom:8px;'>\n",
        "<b>📝 Note:</b> Expand the panel below to modify cost parameters for your network design calculations.<br>\n",
        "</div>\n",
        "\"\"\"))\n",
        "display(widgets_dict['cost_accordion'])\n",
        "\n",
        "display(HTML(\"<h3>🎯 Outlier Exclusion</h3>\"))\n",
        "display(widgets_dict['outlier'])\n",
        "display(widgets_dict['eps'])\n",
        "display(widgets_dict['min_samples'])\n",
        "\n",
        "display(HTML(\"<h2>🚀 Run Analysis</h2>\"))\n",
        "display(widgets.HBox([save_button, run_button]))\n",
        "display(analysis_output)\n",
        "\n",
        "print(\"🎉 Interactive UI is ready! Configure your parameters above and click 'Run Analysis'!\")\n",
        "print(\"📸 Network visualization will appear automatically after analysis completes.\")\n",
        "print(\"The output files will be saved at 'results/Project Name'\")\n"
      ]
    }
  ],
  "metadata": {
    "kernelspec": {
      "display_name": "geo_env",
      "language": "python",
      "name": "python3"
    },
    "language_info": {
      "codemirror_mode": {
        "name": "ipython",
        "version": 3
      },
      "file_extension": ".py",
      "mimetype": "text/x-python",
      "name": "python",
      "nbconvert_exporter": "python",
      "pygments_lexer": "ipython3",
      "version": "3.10.9"
    }
  },
  "nbformat": 4,
  "nbformat_minor": 2
}
