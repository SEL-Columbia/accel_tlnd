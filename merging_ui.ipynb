{
  "cells": [
    {
      "cell_type": "code",
      "execution_count": 1,
      "metadata": {},
      "outputs": [
        {
          "name": "stdout",
          "output_type": "stream",
          "text": [
            "✅ Structure Merging Tool setup completed!\n",
            "📁 Working directory: /Users/wuyuezi/Desktop/energy_system_design_tools/accel_tlnd_training\n",
            "🔧 Merge script: structure_merging_model/merge_structures.py\n",
            "🎯 Now run the Merging UI cell below!\n"
          ]
        }
      ],
      "source": [
        "# ========================================\n",
        "# SETUP CELL - Structure Merging Tool\n",
        "# ========================================\n",
        "\n",
        "# Import required libraries\n",
        "import ipywidgets as widgets\n",
        "from IPython.display import display, HTML, clear_output\n",
        "import subprocess\n",
        "import sys\n",
        "from pathlib import Path\n",
        "import warnings\n",
        "warnings.filterwarnings('ignore')\n",
        "\n",
        "# Set up paths\n",
        "ROOT_DIR = Path('.')\n",
        "MERGING_DIR = ROOT_DIR / 'structure_merging_model'\n",
        "INPUTS_DIR = ROOT_DIR / 'accel_tlnd_model' / 'inputs'\n",
        "MERGE_SCRIPT = MERGING_DIR / 'merge_structures.py'\n",
        "\n",
        "# ========================================\n",
        "# UTILITY FUNCTIONS\n",
        "# ========================================\n",
        "\n",
        "def get_available_input_files():\n",
        "    \"\"\"Get list of available parquet input files for merging\"\"\"\n",
        "    available_files = []\n",
        "    \n",
        "    # Only check structure_merging_model/inputs directory\n",
        "    search_dir = MERGING_DIR / 'inputs'\n",
        "    \n",
        "    if search_dir.exists():\n",
        "        # Only look for parquet files\n",
        "        for file_path in search_dir.glob('**/*.parquet'):\n",
        "            relative_path = file_path.relative_to(ROOT_DIR)\n",
        "            available_files.append(str(relative_path))\n",
        "    \n",
        "    # Sort files for better organization\n",
        "    available_files.sort()\n",
        "    \n",
        "    # Add a custom option at the beginning\n",
        "    available_files.insert(0, \"-- Select a file or type custom path --\")\n",
        "    \n",
        "    return available_files\n",
        "\n",
        "def create_merging_widgets():\n",
        "    \"\"\"Create all UI widgets for structure merging\"\"\"\n",
        "    \n",
        "    # Get available input files\n",
        "    available_files = get_available_input_files()\n",
        "    \n",
        "    # File selection dropdown\n",
        "    file_dropdown = widgets.Dropdown(\n",
        "        options=available_files,\n",
        "        value=available_files[0],\n",
        "        description='Quick Select:',\n",
        "        style={'description_width': 'initial'},\n",
        "        layout=widgets.Layout(width='450px')\n",
        "    )\n",
        "    \n",
        "    # Input file path textarea (copy/paste friendly)\n",
        "    input_file_text = widgets.Textarea(\n",
        "        value='structure_merging_model/inputs/example_parish_structures.parquet',\n",
        "        description='Input File:',\n",
        "        style={'description_width': 'initial'},\n",
        "        layout=widgets.Layout(width='500px', height='60px'),\n",
        "        placeholder='Type or paste parquet file path here',\n",
        "        rows=2\n",
        "    )\n",
        "    \n",
        "    # Output file path textarea (copy/paste friendly)  \n",
        "    output_file_text = widgets.Textarea(\n",
        "        value='merged_structures.parquet',\n",
        "        description='Output File:',\n",
        "        style={'description_width': 'initial'},\n",
        "        layout=widgets.Layout(width='500px', height='60px'),\n",
        "        placeholder='Type or paste output parquet file path here',\n",
        "        rows=2\n",
        "    )\n",
        "    \n",
        "    # Merging radius parameter\n",
        "    radius_widget = widgets.FloatText(\n",
        "        value=20.0,\n",
        "        description='Merging Radius (m):',\n",
        "        style={'description_width': 'initial'},\n",
        "        min=1.0,\n",
        "        max=1000.0\n",
        "    )\n",
        "    \n",
        "    # Connect dropdown and text\n",
        "    def on_dropdown_change(change):\n",
        "        if change['new'] != \"-- Select a file or type custom path --\":\n",
        "            input_file_text.value = change['new']\n",
        "    \n",
        "    file_dropdown.observe(on_dropdown_change, names='value')\n",
        "    \n",
        "    # Input file widget wrapper\n",
        "    class InputFileWrapper:\n",
        "        def __init__(self, text_widget):\n",
        "            self.text = text_widget\n",
        "        @property\n",
        "        def value(self):\n",
        "            return self.text.value.strip()\n",
        "    \n",
        "    input_file_widget = InputFileWrapper(input_file_text)\n",
        "    \n",
        "    return {\n",
        "        'input_file': input_file_widget,\n",
        "        'input_dropdown': file_dropdown,\n",
        "        'input_text': input_file_text,\n",
        "        'output_file': output_file_text,\n",
        "        'radius': radius_widget\n",
        "    }\n",
        "\n",
        "print(\"✅ Structure Merging Tool setup completed!\")\n",
        "print(f\"📁 Working directory: {ROOT_DIR.absolute()}\")\n",
        "print(f\"🔧 Merge script: {MERGE_SCRIPT}\")\n",
        "print(\"🎯 Now run the Merging UI cell below!\")\n"
      ]
    },
    {
      "cell_type": "code",
      "execution_count": 2,
      "metadata": {},
      "outputs": [
        {
          "data": {
            "text/html": [
              "<h2>🔗 Structure Merging Tool</h2>"
            ],
            "text/plain": [
              "<IPython.core.display.HTML object>"
            ]
          },
          "metadata": {},
          "output_type": "display_data"
        },
        {
          "data": {
            "text/html": [
              "<h3>📁 Input/Output Configuration</h3>"
            ],
            "text/plain": [
              "<IPython.core.display.HTML object>"
            ]
          },
          "metadata": {},
          "output_type": "display_data"
        },
        {
          "data": {
            "text/html": [
              "\n",
              "<div style='color:#555; font-size:0.9em; margin-bottom:6px;'>\n",
              "<b>💡 Tip:</b> Use the dropdown to quickly select available parquet files, or copy/paste custom paths in the text fields below.<br>\n",
              "<b>Note:</b> Input files must be in parquet format and located in structure_merging_model/inputs directory.\n",
              "</div>\n"
            ],
            "text/plain": [
              "<IPython.core.display.HTML object>"
            ]
          },
          "metadata": {},
          "output_type": "display_data"
        },
        {
          "data": {
            "application/vnd.jupyter.widget-view+json": {
              "model_id": "9e35e3bad0934a49b054f2eb5de792ca",
              "version_major": 2,
              "version_minor": 0
            },
            "text/plain": [
              "HBox(children=(Dropdown(description='Quick Select:', layout=Layout(width='450px'), options=('-- Select a file …"
            ]
          },
          "metadata": {},
          "output_type": "display_data"
        },
        {
          "data": {
            "application/vnd.jupyter.widget-view+json": {
              "model_id": "312914a64ff64a838b948489e90e250f",
              "version_major": 2,
              "version_minor": 0
            },
            "text/plain": [
              "Textarea(value='structure_merging_model/inputs/example_parish_structures.parquet', description='Input File:', …"
            ]
          },
          "metadata": {},
          "output_type": "display_data"
        },
        {
          "data": {
            "application/vnd.jupyter.widget-view+json": {
              "model_id": "417dea1ddf96449a9abdb86340c02209",
              "version_major": 2,
              "version_minor": 0
            },
            "text/plain": [
              "Textarea(value='merged_structures.parquet', description='Output File:', layout=Layout(height='60px', width='50…"
            ]
          },
          "metadata": {},
          "output_type": "display_data"
        },
        {
          "data": {
            "text/html": [
              "<h3>⚙️ Merging Parameters</h3>"
            ],
            "text/plain": [
              "<IPython.core.display.HTML object>"
            ]
          },
          "metadata": {},
          "output_type": "display_data"
        },
        {
          "data": {
            "text/html": [
              "\n",
              "<div style='color:#555; font-size:0.9em; margin-bottom:6px;'>\n",
              "<b>Merging Radius:</b> Structures within this distance (in meters) will be merged into compound-level points.<br>\n",
              "</div>\n"
            ],
            "text/plain": [
              "<IPython.core.display.HTML object>"
            ]
          },
          "metadata": {},
          "output_type": "display_data"
        },
        {
          "data": {
            "application/vnd.jupyter.widget-view+json": {
              "model_id": "2f3bc0dd99b545f691d2c178c04b34f1",
              "version_major": 2,
              "version_minor": 0
            },
            "text/plain": [
              "FloatText(value=20.0, description='Merging Radius (m):', style=DescriptionStyle(description_width='initial'))"
            ]
          },
          "metadata": {},
          "output_type": "display_data"
        },
        {
          "data": {
            "text/html": [
              "<h3>🚀 Execute Merging</h3>"
            ],
            "text/plain": [
              "<IPython.core.display.HTML object>"
            ]
          },
          "metadata": {},
          "output_type": "display_data"
        },
        {
          "data": {
            "application/vnd.jupyter.widget-view+json": {
              "model_id": "94126e1ac4f74b3893782df0bd396457",
              "version_major": 2,
              "version_minor": 0
            },
            "text/plain": [
              "Button(button_style='primary', description='🔗 Run Merging', icon='play', style=ButtonStyle())"
            ]
          },
          "metadata": {},
          "output_type": "display_data"
        },
        {
          "data": {
            "application/vnd.jupyter.widget-view+json": {
              "model_id": "96392cdec2944e87b216cdcf3772c6cc",
              "version_major": 2,
              "version_minor": 0
            },
            "text/plain": [
              "Output()"
            ]
          },
          "metadata": {},
          "output_type": "display_data"
        },
        {
          "name": "stdout",
          "output_type": "stream",
          "text": [
            "🎉 Structure Merging UI is ready!\n",
            "📋 Configure your input file, output path, and merging radius, then click 'Run Merging'\n",
            "📊 The tool will show before/after statistics when completed.\n"
          ]
        }
      ],
      "source": [
        "# ========================================\n",
        "# MERGING UI CELL\n",
        "# ========================================\n",
        "\n",
        "# Create all UI widgets\n",
        "widgets_dict = create_merging_widgets()\n",
        "\n",
        "# Create buttons\n",
        "refresh_button = widgets.Button(\n",
        "    description=\"🔄 Refresh\",\n",
        "    button_style='info',\n",
        "    layout=widgets.Layout(width='120px')\n",
        ")\n",
        "\n",
        "run_button = widgets.Button(\n",
        "    description=\"🔗 Run Merging\",\n",
        "    button_style='primary',\n",
        "    icon='play'\n",
        ")\n",
        "\n",
        "# Create output area\n",
        "merging_output = widgets.Output()\n",
        "\n",
        "# Button click handlers\n",
        "def on_refresh_click(b):\n",
        "    try:\n",
        "        files = get_available_input_files()\n",
        "        widgets_dict['input_dropdown'].options = files\n",
        "        print(f\"✅ Found {len(files)-1} input files\")\n",
        "    except Exception as e:\n",
        "        print(f\"⚠️ Error: {e}\")\n",
        "\n",
        "def on_run_click(b):\n",
        "    with merging_output:\n",
        "        clear_output()\n",
        "        \n",
        "        # Get parameters\n",
        "        input_file = widgets_dict['input_file'].value\n",
        "        output_file = widgets_dict['output_file'].value.strip()\n",
        "        radius = widgets_dict['radius'].value\n",
        "        \n",
        "        print(\"🔗 Starting structure merging process...\")\n",
        "        print(f\"📁 Input file: {input_file}\")\n",
        "        print(f\"📤 Output file: {output_file}\")\n",
        "        print(f\"📏 Merging radius: {radius} meters\")\n",
        "        print(\"\")\n",
        "        \n",
        "        try:\n",
        "            # Check if input file exists\n",
        "            input_path = Path(input_file)\n",
        "            if not input_path.exists():\n",
        "                print(f\"❌ Input file not found: {input_file}\")\n",
        "                return\n",
        "            \n",
        "            # Run the merging script\n",
        "            result = subprocess.run(\n",
        "                [sys.executable, str(MERGE_SCRIPT), \n",
        "                 '--input_file', input_file,\n",
        "                 '--output_file', output_file,\n",
        "                 '--radius', str(radius)],\n",
        "                capture_output=True,\n",
        "                text=True,\n",
        "                cwd=ROOT_DIR\n",
        "            )\n",
        "            \n",
        "            if result.returncode == 0:\n",
        "                print(\"✅ Merging completed successfully!\")\n",
        "                print(\"\")\n",
        "                \n",
        "                # Parse and display the output in a nice format\n",
        "                output_lines = result.stdout.strip().split('\\n')\n",
        "                before_count = None\n",
        "                after_count = None\n",
        "                processing_time = None\n",
        "                \n",
        "                for line in output_lines:\n",
        "                    if 'Before merging:' in line:\n",
        "                        before_count = line.split(': ')[1].split(' ')[0]\n",
        "                    elif 'After merging:' in line:\n",
        "                        after_count = line.split(': ')[1].split(' ')[0]\n",
        "                    elif 'Processing time:' in line:\n",
        "                        processing_time = line.split(': ')[1]\n",
        "                \n",
        "                # Display formatted summary\n",
        "                print(\"📊 MERGING RESULTS SUMMARY\")\n",
        "                print(\"=\" * 50)\n",
        "                if before_count:\n",
        "                    print(f\"🏠 Before merging: {before_count} structures\")\n",
        "                if after_count:\n",
        "                    print(f\"🔗 After merging: {after_count} structures\")\n",
        "                if processing_time:\n",
        "                    print(f\"⏱️ Processing time: {processing_time}\")\n",
        "                print(\"=\" * 50)\n",
        "                \n",
        "                print(\"\\n✅ Results saved successfully!\")\n",
        "                print(f\"📁 Output file: {output_file}\")\n",
        "                \n",
        "            else:\n",
        "                print(\"❌ Merging failed!\")\n",
        "                print(\"\\n🔍 Error details:\")\n",
        "                print(result.stderr)\n",
        "                \n",
        "        except Exception as e:\n",
        "            print(f\"❌ Error running merging process: {e}\")\n",
        "\n",
        "# Connect buttons to handlers\n",
        "refresh_button.on_click(on_refresh_click)\n",
        "run_button.on_click(on_run_click)\n",
        "\n",
        "# ========================================\n",
        "# DISPLAY THE UI\n",
        "# ========================================\n",
        "\n",
        "display(HTML(\"<h2>🔗 Structure Merging Tool</h2>\"))\n",
        "\n",
        "display(HTML(\"<h3>📁 Input/Output Configuration</h3>\"))\n",
        "display(HTML(\"\"\"\n",
        "<div style='color:#555; font-size:0.9em; margin-bottom:6px;'>\n",
        "<b>💡 Tip:</b> Use the dropdown to quickly select available parquet files, or copy/paste custom paths in the text fields below.<br>\n",
        "<b>Note:</b> Input files must be in parquet format and located in structure_merging_model/inputs directory.\n",
        "</div>\n",
        "\"\"\"))\n",
        "display(widgets.HBox([widgets_dict['input_dropdown'], refresh_button]))\n",
        "display(widgets_dict['input_text'])\n",
        "display(widgets_dict['output_file'])\n",
        "\n",
        "display(HTML(\"<h3>⚙️ Merging Parameters</h3>\"))\n",
        "display(HTML(\"\"\"\n",
        "<div style='color:#555; font-size:0.9em; margin-bottom:6px;'>\n",
        "<b>Merging Radius:</b> Structures within this distance (in meters) will be merged into compound-level points.<br>\n",
        "</div>\n",
        "\"\"\"))\n",
        "display(widgets_dict['radius'])\n",
        "\n",
        "display(HTML(\"<h3>🚀 Execute Merging</h3>\"))\n",
        "display(run_button)\n",
        "display(merging_output)\n",
        "\n",
        "print(\"🎉 Structure Merging UI is ready!\")\n",
        "print(\"📋 Configure your input file, output path, and merging radius, then click 'Run Merging'\")\n",
        "print(\"📊 The tool will show before/after statistics when completed.\")\n"
      ]
    }
  ],
  "metadata": {
    "kernelspec": {
      "display_name": "geo_env",
      "language": "python",
      "name": "python3"
    },
    "language_info": {
      "codemirror_mode": {
        "name": "ipython",
        "version": 3
      },
      "file_extension": ".py",
      "mimetype": "text/x-python",
      "name": "python",
      "nbconvert_exporter": "python",
      "pygments_lexer": "ipython3",
      "version": "3.10.9"
    }
  },
  "nbformat": 4,
  "nbformat_minor": 2
}
